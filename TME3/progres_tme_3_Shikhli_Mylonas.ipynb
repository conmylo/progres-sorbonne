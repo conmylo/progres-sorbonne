{
 "cells": [
  {
   "cell_type": "markdown",
   "metadata": {},
   "source": [
    "# Progres: TME3"
   ]
  },
  {
   "cell_type": "markdown",
   "metadata": {},
   "source": [
    "Fabien Mathieu - fabien.mathieu@normalesup.org\n",
    "\n",
    "Sébastien Tixeuil - Sebastien.Tixeuil@lip6.fr\n",
    "\n",
    "**Note :**\n",
    "\n",
    "- The starred exercises (indicated by *) must be done only if all other exercises have been done. You do not have to do them to get a score of 20/20.\n",
    "\n",
    "- stackoverflow is your friend... But if you use something you find on the Internet, you have to cite your source AND add explanations. If you copy/paste something without explanation, you won't get the maximum score even if it works!\n",
    "\n",
    "- The examples given are just examples, you are not obliged to display exactly the same thing."
   ]
  },
  {
   "cell_type": "markdown",
   "metadata": {},
   "source": [
    "This TME was completed for the 2023-2024 winter semester by:\n",
    "- Nadir Shikhli - nadir.shikhli@etu.sorbonne-universite.fr\n",
    "- Konstantinos Mylonas - konstantinos.mylonas@etu.sorbonne-universite.fr"
   ]
  },
  {
   "cell_type": "markdown",
   "metadata": {},
   "source": [
    "# TME3 objective"
   ]
  },
  {
   "cell_type": "markdown",
   "metadata": {},
   "source": [
    "The goal of TME3 is to simulate a distributed hash table based on Chord. *Simulating* means that we won't go to the *prototype*, but only look at the interesting mechanisms in the context of a DHT: building routing tables, insertions, etc...\n",
    "\n",
    "Concretely, we'll ignore all the problems related to the network implementation itself (launching independent clients in VMs, managing network connections, ...) and run everything centrally assuming that the primitives exist, and trying not to call primitives as if they came from peers.\n",
    "\n",
    "**Note:** Normally, after this TME, you will have all the basic notions to make a more realistic implementation of Chord, typically at the mini-project level."
   ]
  },
  {
   "cell_type": "markdown",
   "metadata": {},
   "source": [
    "We will reproduce the table example given in the course."
   ]
  },
  {
   "cell_type": "markdown",
   "metadata": {},
   "source": [
    "The cell below is just to display the Chord ring. No need to evaluate it!"
   ]
  },
  {
   "cell_type": "code",
   "execution_count": 12,
   "metadata": {
    "ExecuteTime": {
     "end_time": "2022-11-25T07:25:02.877610Z",
     "start_time": "2022-11-25T07:24:59.750329Z"
    },
    "hide_input": true
   },
   "outputs": [
    {
     "name": "stderr",
     "output_type": "stream",
     "text": [
      "UsageError: Cell magic `%%tikz` not found.\n"
     ]
    }
   ],
   "source": [
    "%%tikz --size 500,500\n",
    "\\draw (0,0) circle (2) ;\n",
    "\\foreach \\n/\\a in {1/84,8/45,14/11,21/331,32/270,38/236,42/214,48/180,51/163,56/135}\n",
    "{\\node[blue] (\\n) at (\\a:2) {$\\bullet$} ;\n",
    "\\node (p\\n) at (\\a:2.4) {$p_{\\n}$} ;}\n",
    "\\draw[->,>=latex] (8) edge (14) edge (21) edge (32) edge (42);"
   ]
  },
  {
   "cell_type": "markdown",
   "metadata": {},
   "source": [
    "For simplicity, we will identify a peer and its key. In particular, if you know the key of a peer, you can contact him. In real life, of course, you also need a real IP address or something like that. For example, $p_{38}$ is represented by something like (name: mymachine, ip: 129.199.129.1, hash: 38, ...). For the TME, we'll settle for 38."
   ]
  },
  {
   "cell_type": "markdown",
   "metadata": {},
   "source": [
    "# Exercise 1: centralized building"
   ]
  },
  {
   "cell_type": "markdown",
   "metadata": {},
   "source": [
    "To start with, we assume a complete knowledge of the network and build the different routing tables.\n",
    "\n",
    "We assume that we have an already populated and functional DHT. The size of the key space is 64 and we have access to the peer list."
   ]
  },
  {
   "cell_type": "code",
   "execution_count": 1,
   "metadata": {
    "ExecuteTime": {
     "end_time": "2022-11-25T07:04:07.817409Z",
     "start_time": "2022-11-25T07:04:07.801166Z"
    }
   },
   "outputs": [],
   "source": [
    "Nmax = 64\n",
    "peers = [1, 8, 14, 21, 32, 38, 42, 48, 51, 56]"
   ]
  },
  {
   "cell_type": "markdown",
   "metadata": {},
   "source": [
    "### Question 1.1"
   ]
  },
  {
   "cell_type": "markdown",
   "metadata": {},
   "source": [
    "Write a successor function that returns the successor of a key, and a predecessor function."
   ]
  },
  {
   "cell_type": "markdown",
   "metadata": {},
   "source": [
    "Be careful, we are not trying to do Chord yet, it is just about giving the answer from the complete knowledge of the system."
   ]
  },
  {
   "cell_type": "markdown",
   "metadata": {},
   "source": [
    "Typically, with these functions, you should be able to write:"
   ]
  },
  {
   "cell_type": "code",
   "execution_count": 22,
   "metadata": {
    "ExecuteTime": {
     "end_time": "2022-11-25T07:04:09.754624Z",
     "start_time": "2022-11-25T07:04:09.440941Z"
    },
    "scrolled": true
   },
   "outputs": [
    {
     "data": {
      "text/plain": [
       "[32, 48, 1]"
      ]
     },
     "execution_count": 22,
     "metadata": {},
     "output_type": "execute_result"
    }
   ],
   "source": [
    "[successor(k, peers) for k in [30, 42, 60]]"
   ]
  },
  {
   "cell_type": "code",
   "execution_count": 23,
   "metadata": {
    "ExecuteTime": {
     "end_time": "2022-11-25T06:34:35.012537Z",
     "start_time": "2022-11-25T06:34:34.999086Z"
    }
   },
   "outputs": [
    {
     "data": {
      "text/plain": [
       "[32, 56]"
      ]
     },
     "execution_count": 23,
     "metadata": {},
     "output_type": "execute_result"
    }
   ],
   "source": [
    "[predecessor(k, peers) for k in [37, 1]]"
   ]
  },
  {
   "cell_type": "markdown",
   "metadata": {},
   "source": [
    "### Question 1.2"
   ]
  },
  {
   "cell_type": "code",
   "execution_count": 21,
   "metadata": {},
   "outputs": [
    {
     "name": "stdout",
     "output_type": "stream",
     "text": [
      "[32, 48, 1]\n",
      "[32, 56]\n"
     ]
    }
   ],
   "source": [
    "def successor(key, peers):\n",
    "    \"\"\"\n",
    "    This function finds the successor of a given key in the peers list.\n",
    "    \"\"\"\n",
    "    # Find the successor\n",
    "    for peer in peers:\n",
    "        if peer > key:\n",
    "            return peer\n",
    "    \n",
    "    # Return the first peer if no greater peer is found \n",
    "    return peers[0]\n",
    "\n",
    "\n",
    "def predecessor(key, peers):\n",
    "    \"\"\"\n",
    "    This function finds the predecessor of a given key in the peers list.\n",
    "    \"\"\"\n",
    "    # Reverse the peers list\n",
    "    sorted_peers = sorted(peers, reverse=True)\n",
    "    # Find the predecessor\n",
    "    for peer in sorted_peers:\n",
    "        if peer < key:\n",
    "            return peer\n",
    "    \n",
    "    # Return the last peer (index 0 after reverse sort) if no smaller peer is found \n",
    "    return sorted_peers[0]\n",
    "\n",
    "\n",
    "# Testing the functions with the given examples\n",
    "peers = [1, 8, 14, 21, 32, 38, 42, 48, 51, 56]\n",
    "successors = [successor(k, peers) for k in [30, 42, 60]]\n",
    "predecessors = [predecessor(k, peers) for k in [37, 1]]\n",
    "\n",
    "print(successors)\n",
    "print(predecessors)\n",
    "\n"
   ]
  },
  {
   "cell_type": "markdown",
   "metadata": {},
   "source": [
    "Write a function that returns a dictionary associating to each peer its own key, its successor, its predecessor and its finger table."
   ]
  },
  {
   "cell_type": "markdown",
   "metadata": {},
   "source": [
    "As before, you can use the complete knowledge of the system."
   ]
  },
  {
   "cell_type": "code",
   "execution_count": 25,
   "metadata": {
    "ExecuteTime": {
     "end_time": "2022-11-25T07:04:30.469004Z",
     "start_time": "2022-11-25T07:04:30.441246Z"
    }
   },
   "outputs": [
    {
     "data": {
      "text/plain": [
       "{1: {'key': 1, 'next': 8, 'prev': 56, 'finger': [8, 14, 21, 38]},\n",
       " 8: {'key': 8, 'next': 14, 'prev': 1, 'finger': [14, 21, 32, 42]},\n",
       " 14: {'key': 14, 'next': 21, 'prev': 8, 'finger': [21, 32, 48]},\n",
       " 21: {'key': 21, 'next': 32, 'prev': 14, 'finger': [32, 38, 56]},\n",
       " 32: {'key': 32, 'next': 38, 'prev': 21, 'finger': [38, 42, 51, 1]},\n",
       " 38: {'key': 38, 'next': 42, 'prev': 32, 'finger': [42, 48, 56, 8]},\n",
       " 42: {'key': 42, 'next': 48, 'prev': 38, 'finger': [48, 51, 1, 14]},\n",
       " 48: {'key': 48, 'next': 51, 'prev': 42, 'finger': [51, 56, 1, 21]},\n",
       " 51: {'key': 51, 'next': 56, 'prev': 48, 'finger': [56, 1, 8, 21]},\n",
       " 56: {'key': 56, 'next': 1, 'prev': 51, 'finger': [1, 14, 32]}}"
      ]
     },
     "execution_count": 25,
     "metadata": {},
     "output_type": "execute_result"
    }
   ],
   "source": [
    "\n",
    "dht = make_dht(peers)\n",
    "dht"
   ]
  },
  {
   "cell_type": "code",
   "execution_count": 24,
   "metadata": {
    "scrolled": false
   },
   "outputs": [
    {
     "data": {
      "text/plain": [
       "{1: {'key': 1, 'next': 8, 'prev': 56, 'finger': [8, 14, 21, 38]},\n",
       " 8: {'key': 8, 'next': 14, 'prev': 1, 'finger': [14, 21, 32, 42]},\n",
       " 14: {'key': 14, 'next': 21, 'prev': 8, 'finger': [21, 32, 48]},\n",
       " 21: {'key': 21, 'next': 32, 'prev': 14, 'finger': [32, 38, 56]},\n",
       " 32: {'key': 32, 'next': 38, 'prev': 21, 'finger': [38, 42, 51, 1]},\n",
       " 38: {'key': 38, 'next': 42, 'prev': 32, 'finger': [42, 48, 56, 8]},\n",
       " 42: {'key': 42, 'next': 48, 'prev': 38, 'finger': [48, 51, 1, 14]},\n",
       " 48: {'key': 48, 'next': 51, 'prev': 42, 'finger': [51, 56, 1, 21]},\n",
       " 51: {'key': 51, 'next': 56, 'prev': 48, 'finger': [56, 1, 8, 21]},\n",
       " 56: {'key': 56, 'next': 1, 'prev': 51, 'finger': [1, 14, 32]}}"
      ]
     },
     "execution_count": 24,
     "metadata": {},
     "output_type": "execute_result"
    }
   ],
   "source": [
    "def simple_finger_table(peer, peers):\n",
    "        \"\"\"\n",
    "        Generates a simple finger table for a given peer. \n",
    "        \"\"\"\n",
    "        sorted_peers = sorted(peers)\n",
    "        fingers = []\n",
    "        for i in range(Nmax.bit_length()):\n",
    "            # Calculate the start of the interval\n",
    "            start = (peer + 2**i) % Nmax\n",
    "            # Find the successor for the start of the interval\n",
    "            finger_successor = successor(start, peers)\n",
    "            if finger_successor not in fingers:  # Avoid repeating the same entry\n",
    "                fingers.append(finger_successor)\n",
    "        return fingers\n",
    "\n",
    "def make_dht(peers):\n",
    "    \"\"\"\n",
    "    Function that creates the DHT.\n",
    "    \"\"\"\n",
    "    dht = {}\n",
    "    for peer in peers:\n",
    "        dht[peer] = {\n",
    "            'key': peer,\n",
    "            'next': successor(peer, peers),\n",
    "            'prev': predecessor(peer, peers),\n",
    "            'finger': simple_finger_table(peer, peers)\n",
    "        }\n",
    "\n",
    "    return dht\n",
    "\n",
    "dht = make_dht(peers)\n",
    "dht"
   ]
  },
  {
   "cell_type": "markdown",
   "metadata": {},
   "source": [
    "# Exercise 2: using Chord "
   ]
  },
  {
   "cell_type": "markdown",
   "metadata": {},
   "source": [
    "You should now have correctly configured Chord routing tables. "
   ]
  },
  {
   "cell_type": "markdown",
   "metadata": {},
   "source": [
    "### Question 2.1"
   ]
  },
  {
   "cell_type": "markdown",
   "metadata": {},
   "source": [
    "Test whether a peer $i$ is in charge of a key $k$. This function must be executed from the peer's point of view, i.e. using only the data owned by $i$."
   ]
  },
  {
   "cell_type": "code",
   "execution_count": 27,
   "metadata": {
    "ExecuteTime": {
     "end_time": "2022-11-25T06:37:37.504854Z",
     "start_time": "2022-11-25T06:37:37.490794Z"
    }
   },
   "outputs": [
    {
     "data": {
      "text/plain": [
       "True"
      ]
     },
     "execution_count": 27,
     "metadata": {},
     "output_type": "execute_result"
    }
   ],
   "source": [
    "i = 1; k = 56\n",
    "isincharge(dht[i], k)"
   ]
  },
  {
   "cell_type": "code",
   "execution_count": 28,
   "metadata": {
    "ExecuteTime": {
     "end_time": "2022-11-25T06:37:38.228614Z",
     "start_time": "2022-11-25T06:37:38.200586Z"
    }
   },
   "outputs": [
    {
     "data": {
      "text/plain": [
       "False"
      ]
     },
     "execution_count": 28,
     "metadata": {},
     "output_type": "execute_result"
    }
   ],
   "source": [
    "k = 55\n",
    "isincharge(dht[i], k)"
   ]
  },
  {
   "cell_type": "code",
   "execution_count": 29,
   "metadata": {
    "ExecuteTime": {
     "end_time": "2022-11-25T06:39:22.466069Z",
     "start_time": "2022-11-25T06:39:22.447747Z"
    }
   },
   "outputs": [
    {
     "data": {
      "text/plain": [
       "[32, 33, 34, 35, 36, 37]"
      ]
     },
     "execution_count": 29,
     "metadata": {},
     "output_type": "execute_result"
    }
   ],
   "source": [
    "i = 38\n",
    "[k for k in range(Nmax) if isincharge(dht[i], k)]"
   ]
  },
  {
   "cell_type": "code",
   "execution_count": 26,
   "metadata": {},
   "outputs": [
    {
     "data": {
      "text/plain": [
       "(True, False, [32, 33, 34, 35, 36, 37])"
      ]
     },
     "execution_count": 26,
     "metadata": {},
     "output_type": "execute_result"
    }
   ],
   "source": [
    "def isincharge(peer_data, k):\n",
    "    \"\"\"\n",
    "    Function to determine if the peer is in charge of the key k.\n",
    "    A peer i is in charge of a key k if k is equal to or greater than the key of i's predecessor\n",
    "    and strictly less than i's own key.\n",
    "    \"\"\"\n",
    "    peer = peer_data['key']\n",
    "    prev_peer = peer_data['prev']\n",
    "\n",
    "    if prev_peer < peer:\n",
    "        # Normal case: prev_peer < peer\n",
    "        return prev_peer <= k < peer\n",
    "    else:\n",
    "        # Circular case: peer is the first in the circle\n",
    "        return k >= prev_peer or k < peer\n",
    "    \n",
    "# Retesting the function with the provided examples\n",
    "i = 1; k = 56\n",
    "result1 = isincharge(dht[i], k)\n",
    "\n",
    "k = 55\n",
    "result2 = isincharge(dht[i], k)\n",
    "\n",
    "# Retesting for peer 38 with all keys in the range of Nmax\n",
    "i = 38\n",
    "keys_in_charge = [k for k in range(Nmax) if isincharge(dht[i], k)]\n",
    "\n",
    "result1, result2, keys_in_charge"
   ]
  },
  {
   "cell_type": "markdown",
   "metadata": {},
   "source": [
    "### Question 2.2"
   ]
  },
  {
   "cell_type": "markdown",
   "metadata": {},
   "source": [
    "Write a key search function, which will return the route to reach the peer responsible for a key."
   ]
  },
  {
   "cell_type": "code",
   "execution_count": 31,
   "metadata": {
    "ExecuteTime": {
     "end_time": "2022-11-25T00:23:20.967276Z",
     "start_time": "2022-11-25T00:23:20.942808Z"
    }
   },
   "outputs": [
    {
     "data": {
      "text/plain": [
       "[8, 42, 51, 56]"
      ]
     },
     "execution_count": 31,
     "metadata": {},
     "output_type": "execute_result"
    }
   ],
   "source": [
    "lookup(8, 54, dht)"
   ]
  },
  {
   "cell_type": "code",
   "execution_count": 32,
   "metadata": {
    "ExecuteTime": {
     "end_time": "2022-11-25T00:23:21.532153Z",
     "start_time": "2022-11-25T00:23:21.509226Z"
    }
   },
   "outputs": [
    {
     "data": {
      "text/plain": [
       "[42, 14, 21]"
      ]
     },
     "execution_count": 32,
     "metadata": {},
     "output_type": "execute_result"
    }
   ],
   "source": [
    "lookup(42, 14, dht)"
   ]
  },
  {
   "cell_type": "code",
   "execution_count": 33,
   "metadata": {
    "ExecuteTime": {
     "end_time": "2022-11-25T00:23:22.020542Z",
     "start_time": "2022-11-25T00:23:22.008362Z"
    }
   },
   "outputs": [
    {
     "data": {
      "text/plain": [
       "[42, 14, 21, 32]"
      ]
     },
     "execution_count": 33,
     "metadata": {},
     "output_type": "execute_result"
    }
   ],
   "source": [
    "lookup(42, 21, dht)"
   ]
  },
  {
   "cell_type": "code",
   "execution_count": 30,
   "metadata": {},
   "outputs": [
    {
     "data": {
      "text/plain": [
       "([8, 42, 51, 56], [42, 14, 21], [42, 14, 21, 32])"
      ]
     },
     "execution_count": 30,
     "metadata": {},
     "output_type": "execute_result"
    }
   ],
   "source": [
    "def lookup(start_peer, key, dht):\n",
    "    \"\"\"\n",
    "    Find the route to reach the peer responsible for a key in a Chord DHT.\n",
    "    Returns a list of peers forming the route to the target peer.\n",
    "    \"\"\"\n",
    "    route = [start_peer]\n",
    "    current_peer = start_peer\n",
    "    while not isincharge(dht[current_peer], key):\n",
    "        # Iterate over the finger table to find the largest entry less than the key\n",
    "        next_peer = dht[current_peer]['next']  # Default to successor\n",
    "        for finger in reversed(dht[current_peer]['finger']): #reverse to begin with last value of finger\n",
    "            if finger <= key and (finger > next_peer or current_peer >= key):\n",
    "                next_peer = finger\n",
    "                break\n",
    "        # Update the current peer and add to the route\n",
    "        current_peer = next_peer\n",
    "        route.append(current_peer)\n",
    "        # Break the loop if the same peer is visited again (to prevent infinite loops)\n",
    "        if route.count(current_peer) > 1:\n",
    "            break\n",
    " \n",
    "    return route\n",
    "\n",
    "# Testing the lookup function with the provided examples\n",
    "route1 = lookup(8, 54, dht)\n",
    "route2 = lookup(42, 14, dht)\n",
    "route3 = lookup(42, 21, dht)\n",
    "\n",
    "route1, route2, route3"
   ]
  },
  {
   "cell_type": "markdown",
   "metadata": {},
   "source": [
    "# Exercise 3: decentralized building "
   ]
  },
  {
   "cell_type": "markdown",
   "metadata": {},
   "source": [
    "Starting with a full table it is easy. Let's start from the beginning, with a single even number, 1."
   ]
  },
  {
   "cell_type": "code",
   "execution_count": 34,
   "metadata": {
    "ExecuteTime": {
     "end_time": "2022-11-25T07:04:44.398067Z",
     "start_time": "2022-11-25T07:04:44.380920Z"
    }
   },
   "outputs": [],
   "source": [
    "dht2 = {1: {'key': 1, 'next': 1, 'prev': 1, 'finger': []}}"
   ]
  },
  {
   "cell_type": "markdown",
   "metadata": {},
   "source": [
    "The routing is very minimalist for the moment..."
   ]
  },
  {
   "cell_type": "code",
   "execution_count": 35,
   "metadata": {
    "ExecuteTime": {
     "end_time": "2022-11-25T06:42:12.725539Z",
     "start_time": "2022-11-25T06:42:12.703101Z"
    }
   },
   "outputs": [
    {
     "data": {
      "text/plain": [
       "[1]"
      ]
     },
     "execution_count": 35,
     "metadata": {},
     "output_type": "execute_result"
    }
   ],
   "source": [
    "lookup(1, 42, dht2)"
   ]
  },
  {
   "cell_type": "markdown",
   "metadata": {},
   "source": [
    "### Question 3.1"
   ]
  },
  {
   "cell_type": "markdown",
   "metadata": {},
   "source": [
    "Given a peer $p$ and a set of peers, construct a finger table for $p$. Note: a peer should never return to its own routing table, and the table must not contain duplicates."
   ]
  },
  {
   "cell_type": "code",
   "execution_count": 36,
   "metadata": {
    "ExecuteTime": {
     "end_time": "2022-11-25T06:42:51.938338Z",
     "start_time": "2022-11-25T06:42:51.924820Z"
    }
   },
   "outputs": [
    {
     "data": {
      "text/plain": [
       "[22, 32, 60]"
      ]
     },
     "execution_count": 36,
     "metadata": {},
     "output_type": "execute_result"
    }
   ],
   "source": [
    "build_finger(15, [1, 3, 60, 32, 7, 15, 45, 22, 60])"
   ]
  },
  {
   "cell_type": "code",
   "execution_count": 37,
   "metadata": {
    "ExecuteTime": {
     "end_time": "2022-11-25T06:42:52.864136Z",
     "start_time": "2022-11-25T06:42:52.844783Z"
    }
   },
   "outputs": [
    {
     "data": {
      "text/plain": [
       "[56, 1]"
      ]
     },
     "execution_count": 37,
     "metadata": {},
     "output_type": "execute_result"
    }
   ],
   "source": [
    "build_finger(42, [1, 56, 42])"
   ]
  },
  {
   "cell_type": "code",
   "execution_count": 38,
   "metadata": {},
   "outputs": [
    {
     "name": "stdout",
     "output_type": "stream",
     "text": [
      "[56, 1]\n",
      "[22, 32, 60]\n"
     ]
    }
   ],
   "source": [
    "def build_finger(peer, peers):\n",
    "        \"\"\"\n",
    "        Generates a finger table for a given peer. Same as simple builder but also avoids repeating own value \n",
    "        \"\"\"\n",
    "        sorted_peers = sorted(peers)\n",
    "        fingers = []\n",
    "        for i in range(Nmax.bit_length()):\n",
    "            # Calculate the start of the interval\n",
    "            start = (peer + 2**i) % Nmax\n",
    "            # Find the successor for the start of the interval\n",
    "            finger_successor = successor(start, sorted_peers)\n",
    "            if finger_successor not in fingers and finger_successor != peer:  # Avoid repeating the same entry and own value\n",
    "                fingers.append(finger_successor)\n",
    "        return fingers\n",
    "    \n",
    "print(build_finger(42, [1, 56, 42]))\n",
    "print(build_finger(15, [1, 3, 60, 32, 7, 15, 45, 22, 60]))"
   ]
  },
  {
   "cell_type": "markdown",
   "metadata": {},
   "source": [
    "### Question 3.2"
   ]
  },
  {
   "cell_type": "markdown",
   "metadata": {},
   "source": [
    "Write a function to insert a peer as seen in course, using 1 as the insertion point.\n",
    "\n",
    "Insert peers 8, 14, ... in the order you want\n",
    "\n",
    "- Do you have a working table?\n",
    "- How complete is it? (compare with Exercise 1)"
   ]
  },
  {
   "cell_type": "code",
   "execution_count": 39,
   "metadata": {},
   "outputs": [
    {
     "name": "stdout",
     "output_type": "stream",
     "text": [
      "DHT after adding 1: {1: {'key': 1, 'next': 1, 'prev': 1, 'finger': []}}\n"
     ]
    }
   ],
   "source": [
    "def successor_updated(key, peers):\n",
    "    \"\"\"\n",
    "    Function to find the successor of a given key in the peers list which handles having 1 key.\n",
    "    \"\"\"\n",
    "    sorted_peers = sorted(peers)\n",
    "    for peer in sorted_peers:\n",
    "        if peer > key:\n",
    "            return peer\n",
    "    # If no greater peer is found, return the first peer in the sorted list\n",
    "    return sorted_peers[0] if sorted_peers else key\n",
    "\n",
    "def calculate_dht_properties(dht):\n",
    "    \"\"\"\n",
    "    Function to update the entire DHT after inserting a new peer.\n",
    "    \"\"\"\n",
    "    peers = sorted(dht.keys())\n",
    "    for peer in dht:\n",
    "        # Update finger table\n",
    "        dht[peer]['finger'] = build_finger(peer, peers)\n",
    "\n",
    "        # Update next and prev\n",
    "        dht[peer]['next'] = successor_updated(peer, peers)\n",
    "        dht[peer]['prev'] = predecessor(peer, peers)\n",
    "\n",
    "\n",
    "def insert_and_update_dht(new_peer, dht):\n",
    "    \"\"\"\n",
    "    Function to insert a new peer into the DHT and then update the properties of the DHT.\n",
    "    \"\"\"\n",
    "    # Insert the new peer\n",
    "    dht[new_peer] = {'key': new_peer, 'next': None, 'prev': None, 'finger': []}\n",
    "\n",
    "    # Calculate and update properties of DHT\n",
    "    calculate_dht_properties(dht)\n",
    "\n",
    "# Initialize the DHT with peer 1\n",
    "dht_updated = {1: {'key': 1, 'next': None, 'prev': None, 'finger': []}}\n",
    "calculate_dht_properties(dht_updated)\n",
    "print(\"DHT after adding 1:\", dht_updated)"
   ]
  },
  {
   "cell_type": "code",
   "execution_count": 40,
   "metadata": {},
   "outputs": [
    {
     "data": {
      "text/plain": [
       "{1: {'key': 1, 'next': 8, 'prev': 8, 'finger': [8]},\n",
       " 8: {'key': 8, 'next': 1, 'prev': 1, 'finger': [1]}}"
      ]
     },
     "execution_count": 40,
     "metadata": {},
     "output_type": "execute_result"
    }
   ],
   "source": [
    "peer = 8\n",
    "insert_and_update_dht(peer, dht_updated)\n",
    "dht_updated"
   ]
  },
  {
   "cell_type": "code",
   "execution_count": 41,
   "metadata": {},
   "outputs": [
    {
     "data": {
      "text/plain": [
       "{1: {'key': 1, 'next': 8, 'prev': 14, 'finger': [8, 14]},\n",
       " 8: {'key': 8, 'next': 14, 'prev': 1, 'finger': [14, 1]},\n",
       " 14: {'key': 14, 'next': 1, 'prev': 8, 'finger': [1]}}"
      ]
     },
     "execution_count": 41,
     "metadata": {},
     "output_type": "execute_result"
    }
   ],
   "source": [
    "peer = 14\n",
    "insert_and_update_dht(peer, dht_updated)\n",
    "dht_updated"
   ]
  },
  {
   "cell_type": "code",
   "execution_count": 42,
   "metadata": {},
   "outputs": [
    {
     "data": {
      "text/plain": [
       "{1: {'key': 1, 'next': 8, 'prev': 56, 'finger': [8, 14, 21, 38]},\n",
       " 8: {'key': 8, 'next': 14, 'prev': 1, 'finger': [14, 21, 32, 42]},\n",
       " 14: {'key': 14, 'next': 21, 'prev': 8, 'finger': [21, 32, 48]},\n",
       " 21: {'key': 21, 'next': 32, 'prev': 14, 'finger': [32, 38, 56]},\n",
       " 32: {'key': 32, 'next': 38, 'prev': 21, 'finger': [38, 42, 51, 1]},\n",
       " 38: {'key': 38, 'next': 42, 'prev': 32, 'finger': [42, 48, 56, 8]},\n",
       " 42: {'key': 42, 'next': 48, 'prev': 38, 'finger': [48, 51, 1, 14]},\n",
       " 48: {'key': 48, 'next': 51, 'prev': 42, 'finger': [51, 56, 1, 21]},\n",
       " 51: {'key': 51, 'next': 56, 'prev': 48, 'finger': [56, 1, 8, 21]},\n",
       " 56: {'key': 56, 'next': 1, 'prev': 51, 'finger': [1, 14, 32]}}"
      ]
     },
     "execution_count": 42,
     "metadata": {},
     "output_type": "execute_result"
    }
   ],
   "source": [
    "peers_to_insert = [21, 32, 38, 42, 48, 51, 56]\n",
    "for peer in peers_to_insert:\n",
    "    insert_and_update_dht(peer, dht_updated)\n",
    "dht_updated"
   ]
  },
  {
   "cell_type": "markdown",
   "metadata": {},
   "source": [
    "### Question 3.3*"
   ]
  },
  {
   "cell_type": "markdown",
   "metadata": {},
   "source": [
    "Propose solutions to have more complete tables."
   ]
  },
  {
   "cell_type": "markdown",
   "metadata": {},
   "source": [
    "**Answer:**"
   ]
  },
  {
   "cell_type": "markdown",
   "metadata": {},
   "source": [
    "# Exercise 4: to go further*"
   ]
  },
  {
   "cell_type": "markdown",
   "metadata": {},
   "source": [
    "### Question 4.1*"
   ]
  },
  {
   "cell_type": "markdown",
   "metadata": {},
   "source": [
    "Manage the clean departure of a peer."
   ]
  },
  {
   "cell_type": "markdown",
   "metadata": {},
   "source": [
    "**Answer:**"
   ]
  },
  {
   "cell_type": "markdown",
   "metadata": {},
   "source": [
    "### Question 4.2*"
   ]
  },
  {
   "cell_type": "markdown",
   "metadata": {},
   "source": [
    "Use a larger key space (e.g. 32 bits), and insert more peers (10000)."
   ]
  },
  {
   "cell_type": "markdown",
   "metadata": {},
   "source": [
    "**Answer:**"
   ]
  },
  {
   "cell_type": "markdown",
   "metadata": {},
   "source": [
    "### Question 4.3*"
   ]
  },
  {
   "cell_type": "markdown",
   "metadata": {},
   "source": [
    "Generate 100,000 keys and study their distribution over the 10,000 peers:\n",
    "- How many keys are managed at most by a peer?\n",
    "- Draw a curve that gives the number of peers that have $x$ keys (as a function of $x$)."
   ]
  },
  {
   "cell_type": "markdown",
   "metadata": {},
   "source": [
    "**Answer:**"
   ]
  },
  {
   "cell_type": "markdown",
   "metadata": {},
   "source": [
    "### Question 4.4*"
   ]
  },
  {
   "cell_type": "markdown",
   "metadata": {},
   "source": [
    "Compute 100 *lookup* from random keys and peers:\n",
    "- What is the maximum lookup length?\n",
    "- Draw a curve that gives the number of lookups of length $x$ (as a function of $x$)."
   ]
  },
  {
   "cell_type": "markdown",
   "metadata": {},
   "source": [
    "**Answer:**"
   ]
  }
 ],
 "metadata": {
  "anaconda-cloud": {},
  "celltoolbar": "Slideshow",
  "kernelspec": {
   "display_name": "Python 3 (ipykernel)",
   "language": "python",
   "name": "python3"
  },
  "language_info": {
   "codemirror_mode": {
    "name": "ipython",
    "version": 3
   },
   "file_extension": ".py",
   "mimetype": "text/x-python",
   "name": "python",
   "nbconvert_exporter": "python",
   "pygments_lexer": "ipython3",
   "version": "3.9.13"
  },
  "latex_envs": {
   "LaTeX_envs_menu_present": true,
   "bibliofile": "biblio.bib",
   "cite_by": "apalike",
   "current_citInitial": 1,
   "eqLabelWithNumbers": true,
   "eqNumInitial": 1,
   "hotkeys": {
    "equation": "Ctrl-E",
    "itemize": "Ctrl-I"
   },
   "labels_anchors": false,
   "latex_user_defs": false,
   "report_style_numbering": false,
   "user_envs_cfg": false
  },
  "nav_menu": {},
  "nbTranslate": {
   "displayLangs": [
    "en"
   ],
   "hotkey": "alt-t",
   "langInMainMenu": true,
   "sourceLang": "en",
   "targetLang": "fr",
   "useGoogleTranslate": true
  },
  "toc": {
   "base_numbering": 1,
   "nav_menu": {},
   "number_sections": false,
   "sideBar": true,
   "skip_h1_title": false,
   "title_cell": "Table of Contents",
   "title_sidebar": "Contents",
   "toc_cell": false,
   "toc_position": {},
   "toc_section_display": "block",
   "toc_window_display": true
  },
  "varInspector": {
   "cols": {
    "lenName": 16,
    "lenType": 16,
    "lenVar": 40
   },
   "kernels_config": {
    "python": {
     "delete_cmd_postfix": "",
     "delete_cmd_prefix": "del ",
     "library": "var_list.py",
     "varRefreshCmd": "print(var_dic_list())"
    },
    "r": {
     "delete_cmd_postfix": ") ",
     "delete_cmd_prefix": "rm(",
     "library": "var_list.r",
     "varRefreshCmd": "cat(var_dic_list()) "
    }
   },
   "types_to_exclude": [
    "module",
    "function",
    "builtin_function_or_method",
    "instance",
    "_Feature"
   ],
   "window_display": false
  }
 },
 "nbformat": 4,
 "nbformat_minor": 1
}
